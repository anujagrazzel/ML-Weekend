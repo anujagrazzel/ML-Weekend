{
 "cells": [
  {
   "cell_type": "code",
   "execution_count": 196,
   "metadata": {
    "collapsed": true
   },
   "outputs": [],
   "source": [
    "import pandas as pd\n",
    "import numpy as np\n",
    "import matplotlib.pyplot as plt\n",
    "import seaborn as sns\n",
    "\n",
    "%matplotlib inline"
   ]
  },
  {
   "cell_type": "code",
   "execution_count": 197,
   "metadata": {},
   "outputs": [
    {
     "data": {
      "text/plain": [
       "['categories.csv',\n",
       " 'products.csv',\n",
       " 'orders.csv',\n",
       " 'customer.csv',\n",
       " 'department.csv',\n",
       " 'order_items.csv']"
      ]
     },
     "execution_count": 197,
     "metadata": {},
     "output_type": "execute_result"
    }
   ],
   "source": [
    "os.listdir('../../data')"
   ]
  },
  {
   "cell_type": "code",
   "execution_count": 198,
   "metadata": {},
   "outputs": [],
   "source": [
    "Categories = pd.read_csv('../../data/categories.csv', delimiter=',')\n",
    "Products = pd.read_csv('../../data/products.csv', delimiter=';')\n",
    "Orders = pd.read_csv('../../data/orders.csv', delimiter=';')\n",
    "Customer = pd.read_csv('../../data/customer.csv', delimiter=';')\n",
    "Department = pd.read_csv('../../data/department.csv', delimiter=';')\n",
    "Order_Items = pd.read_csv('../../data/order_items.csv', delimiter=';')"
   ]
  },
  {
   "cell_type": "code",
   "execution_count": 199,
   "metadata": {},
   "outputs": [
    {
     "data": {
      "text/html": [
       "<div>\n",
       "<style>\n",
       "    .dataframe thead tr:only-child th {\n",
       "        text-align: right;\n",
       "    }\n",
       "\n",
       "    .dataframe thead th {\n",
       "        text-align: left;\n",
       "    }\n",
       "\n",
       "    .dataframe tbody tr th {\n",
       "        vertical-align: top;\n",
       "    }\n",
       "</style>\n",
       "<table border=\"1\" class=\"dataframe\">\n",
       "  <thead>\n",
       "    <tr style=\"text-align: right;\">\n",
       "      <th></th>\n",
       "      <th>customer_id</th>\n",
       "      <th>customer_fname</th>\n",
       "      <th>customer_lname</th>\n",
       "      <th>customer_street</th>\n",
       "      <th>customer_city</th>\n",
       "      <th>customer_state</th>\n",
       "      <th>customer_zipcode</th>\n",
       "    </tr>\n",
       "  </thead>\n",
       "  <tbody>\n",
       "    <tr>\n",
       "      <th>0</th>\n",
       "      <td>1</td>\n",
       "      <td>Richard</td>\n",
       "      <td>Hernandez</td>\n",
       "      <td>6303 Heather Plaza</td>\n",
       "      <td>Brownsville</td>\n",
       "      <td>TX</td>\n",
       "      <td>78521</td>\n",
       "    </tr>\n",
       "    <tr>\n",
       "      <th>1</th>\n",
       "      <td>2</td>\n",
       "      <td>Mary</td>\n",
       "      <td>Barrett</td>\n",
       "      <td>9526 Noble Embers Ridge</td>\n",
       "      <td>Littleton</td>\n",
       "      <td>CO</td>\n",
       "      <td>80126</td>\n",
       "    </tr>\n",
       "  </tbody>\n",
       "</table>\n",
       "</div>"
      ],
      "text/plain": [
       "   customer_id customer_fname customer_lname          customer_street  \\\n",
       "0            1        Richard      Hernandez       6303 Heather Plaza   \n",
       "1            2           Mary        Barrett  9526 Noble Embers Ridge   \n",
       "\n",
       "  customer_city customer_state  customer_zipcode  \n",
       "0   Brownsville             TX             78521  \n",
       "1     Littleton             CO             80126  "
      ]
     },
     "execution_count": 199,
     "metadata": {},
     "output_type": "execute_result"
    }
   ],
   "source": [
    "del Customer['customer_email']\n",
    "del Customer['customer_password']\n",
    "Customer.head(2)"
   ]
  },
  {
   "cell_type": "code",
   "execution_count": 232,
   "metadata": {},
   "outputs": [
    {
     "data": {
      "text/plain": [
       "array(['department_id', 'department_name'], dtype=object)"
      ]
     },
     "execution_count": 232,
     "metadata": {},
     "output_type": "execute_result"
    }
   ],
   "source": [
    "Department.columns.values"
   ]
  },
  {
   "cell_type": "code",
   "execution_count": 214,
   "metadata": {},
   "outputs": [
    {
     "data": {
      "text/plain": [
       "array(['order_item_id', 'order_item_order_id', 'order_item_product_id',\n",
       "       'order_item_quantity', 'order_item_subtotal',\n",
       "       'order_item_product_price'], dtype=object)"
      ]
     },
     "execution_count": 214,
     "metadata": {},
     "output_type": "execute_result"
    }
   ],
   "source": [
    "Order_Items.columns.values"
   ]
  },
  {
   "cell_type": "code",
   "execution_count": 310,
   "metadata": {},
   "outputs": [
    {
     "data": {
      "text/html": [
       "<div>\n",
       "<style>\n",
       "    .dataframe thead tr:only-child th {\n",
       "        text-align: right;\n",
       "    }\n",
       "\n",
       "    .dataframe thead th {\n",
       "        text-align: left;\n",
       "    }\n",
       "\n",
       "    .dataframe tbody tr th {\n",
       "        vertical-align: top;\n",
       "    }\n",
       "</style>\n",
       "<table border=\"1\" class=\"dataframe\">\n",
       "  <thead>\n",
       "    <tr style=\"text-align: right;\">\n",
       "      <th></th>\n",
       "      <th>0</th>\n",
       "      <th>1</th>\n",
       "      <th>2</th>\n",
       "      <th>3</th>\n",
       "      <th>4</th>\n",
       "      <th>5</th>\n",
       "      <th>6</th>\n",
       "    </tr>\n",
       "  </thead>\n",
       "  <tbody>\n",
       "    <tr>\n",
       "      <th>Categories</th>\n",
       "      <td>category_id</td>\n",
       "      <td>department_id</td>\n",
       "      <td>name</td>\n",
       "      <td>-</td>\n",
       "      <td>-</td>\n",
       "      <td>-</td>\n",
       "      <td>-</td>\n",
       "    </tr>\n",
       "    <tr>\n",
       "      <th>Products</th>\n",
       "      <td>product_id</td>\n",
       "      <td>category_id</td>\n",
       "      <td>name</td>\n",
       "      <td>description</td>\n",
       "      <td>price</td>\n",
       "      <td>image</td>\n",
       "      <td>-</td>\n",
       "    </tr>\n",
       "    <tr>\n",
       "      <th>Orders</th>\n",
       "      <td>order_id</td>\n",
       "      <td>date</td>\n",
       "      <td>customer_id</td>\n",
       "      <td>status</td>\n",
       "      <td>-</td>\n",
       "      <td>-</td>\n",
       "      <td>-</td>\n",
       "    </tr>\n",
       "    <tr>\n",
       "      <th>Customer</th>\n",
       "      <td>customer_id</td>\n",
       "      <td>fname</td>\n",
       "      <td>lname</td>\n",
       "      <td>street</td>\n",
       "      <td>city</td>\n",
       "      <td>state</td>\n",
       "      <td>zipcode</td>\n",
       "    </tr>\n",
       "    <tr>\n",
       "      <th>Department</th>\n",
       "      <td>department_id</td>\n",
       "      <td>name</td>\n",
       "      <td>-</td>\n",
       "      <td>-</td>\n",
       "      <td>-</td>\n",
       "      <td>-</td>\n",
       "      <td>-</td>\n",
       "    </tr>\n",
       "    <tr>\n",
       "      <th>Order_Items</th>\n",
       "      <td>order_item_id</td>\n",
       "      <td>order_id</td>\n",
       "      <td>product_id</td>\n",
       "      <td>quantity</td>\n",
       "      <td>subtotal</td>\n",
       "      <td>product_price</td>\n",
       "      <td>-</td>\n",
       "    </tr>\n",
       "  </tbody>\n",
       "</table>\n",
       "</div>"
      ],
      "text/plain": [
       "                         0              1            2            3         4  \\\n",
       "Categories     category_id  department_id         name            -         -   \n",
       "Products        product_id    category_id         name  description     price   \n",
       "Orders            order_id           date  customer_id       status         -   \n",
       "Customer       customer_id          fname        lname       street      city   \n",
       "Department   department_id           name            -            -         -   \n",
       "Order_Items  order_item_id       order_id   product_id     quantity  subtotal   \n",
       "\n",
       "                         5        6  \n",
       "Categories               -        -  \n",
       "Products             image        -  \n",
       "Orders                   -        -  \n",
       "Customer             state  zipcode  \n",
       "Department               -        -  \n",
       "Order_Items  product_price        -  "
      ]
     },
     "execution_count": 310,
     "metadata": {},
     "output_type": "execute_result"
    }
   ],
   "source": [
    "def f(startsWith = ''):\n",
    "    def g(val):\n",
    "        if(val == startsWith + 'id'):\n",
    "            return val\n",
    "        return val.replace(startsWith, '')\n",
    "    return g\n",
    "\n",
    "FeatureMatrix = pd.DataFrame.from_dict({\n",
    "    'Categories': np.vectorize(f('category_'))(Categories.columns.values).tolist(),\n",
    "    'Products': np.vectorize(f('product_'))(Products.columns.values).tolist(),\n",
    "    'Orders': np.vectorize(f('order_'))(Orders.columns.values).tolist(),\n",
    "    'Customer': np.vectorize(f('customer_'))(Customer.columns.values).tolist(),\n",
    "    'Department': np.vectorize(f('department_'))(Department.columns.values).tolist(),\n",
    "    'Order_Items': np.vectorize(f('order_item_'))(Order_Items.columns.values).tolist()\n",
    "}, orient='index').fillna(value = '-')\n",
    "FeatureMatrix.head(10)"
   ]
  },
  {
   "cell_type": "markdown",
   "metadata": {},
   "source": [
    "We would like to pick up those attributes which answers any of the following question:\n",
    "* Who purchased\n",
    "* What purchased\n",
    "* When purchased\n",
    "* How much purchased\n",
    "\n",
    "For the above question set we are picking up relevant feature for our feature matrix, this is totally based on business knowledge. Anything doubtful should be considered `in`.\n",
    "* **Customer Id** - \n",
    "* **city** \n",
    "* **street** \n",
    "* **zipcode**\n",
    "* **state**\n",
    "* **ordered_product_name**\n",
    "* **ordered_product_desciption**\n",
    "* **ordered_product_price**\n",
    "* **ordered_product_has_image**   (As of now, all products has image, we are just including this, but won't use this one) - `Products['product_image'].isnull().sum()`\n",
    "* **order_date**\n",
    "* **order_status**\n",
    "* **department_name** - Not sure how helpful this will be, benefit of doubt goes to addition of attribute.\n",
    "* **quantity**\n",
    "* **subtotal**\n",
    "* **product_price**\n",
    "\n",
    "#### Biz problem\n",
    " - CEO wants to initiate an email marketting campain, so in order to get most out of it, he want to use our knowledge.\n",
    " \n",
    "#### Thought process\n",
    " As a data analyst, let's try out a conversation between DA and consumer\n",
    " - **DA**: I have sent you a mail. Would you like to check it ?\n",
    " - User: Why should I?\n",
    " - **DA**: It may contains the items you are interested in?\n",
    " - User: May or does it ?\n",
    " - **DA**: `We need to figure out the list of items user is interested in`\n",
    " - *DA: We have some amazing offers for you?\n",
    " - User: Okay !!\n",
    " - DA: `We need to find out best combination of interested product and offer`[Out of our scope as dataset doesn't have any attribute for offers and how much to offer depends on business.]\n",
    " - User: This list seems to be providing good.\n",
    "\n",
    "Now, we have following task in hand:\n",
    "  - We need to figure out the list of items user is interested in\n",
    "    - **Approach#1** - User might be interested in items in which he was interested in recent past.\n",
    "    - **Approach#2** - User might be interested items which other similar users has bought. Ex - If i bought TV, then what are those items which other people has purchased along with or in near duration of purchasing a TV.\n",
    "    - **Approach#3** - User might be offer alcholic - Ex Some users ends up buying lot unnecessary stuff during sale."
   ]
  },
  {
   "cell_type": "markdown",
   "metadata": {},
   "source": [
    "## Approach#1 - Understanding user's interest"
   ]
  },
  {
   "cell_type": "code",
   "execution_count": null,
   "metadata": {
    "collapsed": true
   },
   "outputs": [],
   "source": []
  }
 ],
 "metadata": {
  "kernelspec": {
   "display_name": "Python 3",
   "language": "python",
   "name": "python3"
  },
  "language_info": {
   "codemirror_mode": {
    "name": "ipython",
    "version": 3
   },
   "file_extension": ".py",
   "mimetype": "text/x-python",
   "name": "python",
   "nbconvert_exporter": "python",
   "pygments_lexer": "ipython3",
   "version": "3.6.1"
  }
 },
 "nbformat": 4,
 "nbformat_minor": 2
}
